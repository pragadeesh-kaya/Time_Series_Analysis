{
 "cells": [
  {
   "cell_type": "code",
   "execution_count": 1,
   "id": "bd5432e2",
   "metadata": {},
   "outputs": [],
   "source": [
    "import pandas as pd\n",
    "from nsepy import get_history as gh\n",
    "import datetime as dt"
   ]
  },
  {
   "cell_type": "code",
   "execution_count": 2,
   "id": "39994e54",
   "metadata": {},
   "outputs": [],
   "source": [
    "start = dt.datetime(2021,6,1)\n",
    "end = dt.datetime(2022,1,28)\n",
    "# stk_data = gh(symbol = 'TATACOFFEE', start=start, end=end)\n",
    "stk_data = pd.read_csv(\"Tatacoffee13_21.csv\")"
   ]
  },
  {
   "cell_type": "code",
   "execution_count": 3,
   "id": "10f158a8",
   "metadata": {},
   "outputs": [
    {
     "data": {
      "text/html": [
       "<div>\n",
       "<style scoped>\n",
       "    .dataframe tbody tr th:only-of-type {\n",
       "        vertical-align: middle;\n",
       "    }\n",
       "\n",
       "    .dataframe tbody tr th {\n",
       "        vertical-align: top;\n",
       "    }\n",
       "\n",
       "    .dataframe thead th {\n",
       "        text-align: right;\n",
       "    }\n",
       "</style>\n",
       "<table border=\"1\" class=\"dataframe\">\n",
       "  <thead>\n",
       "    <tr style=\"text-align: right;\">\n",
       "      <th></th>\n",
       "      <th>Open</th>\n",
       "      <th>High</th>\n",
       "      <th>Low</th>\n",
       "      <th>Close</th>\n",
       "    </tr>\n",
       "  </thead>\n",
       "  <tbody>\n",
       "    <tr>\n",
       "      <th>0</th>\n",
       "      <td>1410.60</td>\n",
       "      <td>1427.90</td>\n",
       "      <td>1408.30</td>\n",
       "      <td>1415.10</td>\n",
       "    </tr>\n",
       "    <tr>\n",
       "      <th>1</th>\n",
       "      <td>1421.00</td>\n",
       "      <td>1626.60</td>\n",
       "      <td>1416.15</td>\n",
       "      <td>1607.40</td>\n",
       "    </tr>\n",
       "    <tr>\n",
       "      <th>2</th>\n",
       "      <td>1632.55</td>\n",
       "      <td>1673.90</td>\n",
       "      <td>1613.05</td>\n",
       "      <td>1626.20</td>\n",
       "    </tr>\n",
       "    <tr>\n",
       "      <th>3</th>\n",
       "      <td>1627.75</td>\n",
       "      <td>1627.75</td>\n",
       "      <td>1574.60</td>\n",
       "      <td>1579.05</td>\n",
       "    </tr>\n",
       "    <tr>\n",
       "      <th>4</th>\n",
       "      <td>1580.00</td>\n",
       "      <td>1639.50</td>\n",
       "      <td>1565.50</td>\n",
       "      <td>1595.65</td>\n",
       "    </tr>\n",
       "    <tr>\n",
       "      <th>...</th>\n",
       "      <td>...</td>\n",
       "      <td>...</td>\n",
       "      <td>...</td>\n",
       "      <td>...</td>\n",
       "    </tr>\n",
       "    <tr>\n",
       "      <th>2220</th>\n",
       "      <td>202.90</td>\n",
       "      <td>207.80</td>\n",
       "      <td>201.35</td>\n",
       "      <td>205.00</td>\n",
       "    </tr>\n",
       "    <tr>\n",
       "      <th>2221</th>\n",
       "      <td>206.00</td>\n",
       "      <td>206.85</td>\n",
       "      <td>202.05</td>\n",
       "      <td>202.95</td>\n",
       "    </tr>\n",
       "    <tr>\n",
       "      <th>2222</th>\n",
       "      <td>203.90</td>\n",
       "      <td>203.90</td>\n",
       "      <td>199.35</td>\n",
       "      <td>201.00</td>\n",
       "    </tr>\n",
       "    <tr>\n",
       "      <th>2223</th>\n",
       "      <td>200.00</td>\n",
       "      <td>222.00</td>\n",
       "      <td>196.00</td>\n",
       "      <td>218.35</td>\n",
       "    </tr>\n",
       "    <tr>\n",
       "      <th>2224</th>\n",
       "      <td>219.65</td>\n",
       "      <td>220.45</td>\n",
       "      <td>211.55</td>\n",
       "      <td>212.35</td>\n",
       "    </tr>\n",
       "  </tbody>\n",
       "</table>\n",
       "<p>2225 rows × 4 columns</p>\n",
       "</div>"
      ],
      "text/plain": [
       "         Open     High      Low    Close\n",
       "0     1410.60  1427.90  1408.30  1415.10\n",
       "1     1421.00  1626.60  1416.15  1607.40\n",
       "2     1632.55  1673.90  1613.05  1626.20\n",
       "3     1627.75  1627.75  1574.60  1579.05\n",
       "4     1580.00  1639.50  1565.50  1595.65\n",
       "...       ...      ...      ...      ...\n",
       "2220   202.90   207.80   201.35   205.00\n",
       "2221   206.00   206.85   202.05   202.95\n",
       "2222   203.90   203.90   199.35   201.00\n",
       "2223   200.00   222.00   196.00   218.35\n",
       "2224   219.65   220.45   211.55   212.35\n",
       "\n",
       "[2225 rows x 4 columns]"
      ]
     },
     "execution_count": 3,
     "metadata": {},
     "output_type": "execute_result"
    }
   ],
   "source": [
    "stk_data = stk_data[[\"Open\",\"High\",\"Low\",\"Close\"]]\n",
    "stk_data"
   ]
  },
  {
   "cell_type": "code",
   "execution_count": 4,
   "id": "0235cf1d",
   "metadata": {},
   "outputs": [],
   "source": [
    "# column = \"Close\""
   ]
  },
  {
   "cell_type": "code",
   "execution_count": 5,
   "id": "0b2cfca1",
   "metadata": {},
   "outputs": [
    {
     "name": "stdout",
     "output_type": "stream",
     "text": [
      "len: (2225, 4)\n"
     ]
    }
   ],
   "source": [
    "from sklearn.preprocessing import MinMaxScaler\n",
    "Ms = MinMaxScaler()\n",
    "data1=Ms.fit_transform(stk_data)\n",
    "print(\"len:\",data1.shape)"
   ]
  },
  {
   "cell_type": "code",
   "execution_count": 6,
   "id": "26971987",
   "metadata": {},
   "outputs": [],
   "source": [
    "data1 = pd.DataFrame(data1,columns=[\"Open\",\"High\",\"Low\",\"Close\"])"
   ]
  },
  {
   "cell_type": "code",
   "execution_count": 7,
   "id": "e200554f",
   "metadata": {},
   "outputs": [
    {
     "name": "stdout",
     "output_type": "stream",
     "text": [
      "training_size- 1891\n",
      "x_train- (1891, 4)\n",
      "x_test- (334, 4)\n",
      "y_train- (1891, 4)\n",
      "y_test- (334, 4)\n"
     ]
    }
   ],
   "source": [
    "training_size = round(len(data1)*0.85)\n",
    "print(\"training_size-\",training_size)\n",
    "x_train = data1[:training_size]\n",
    "x_test = data1[training_size:]\n",
    "print(\"x_train-\",x_train.shape)\n",
    "print(\"x_test-\",x_test.shape)\n",
    "y_train = data1[:training_size]\n",
    "y_test = data1[training_size:]\n",
    "print(\"y_train-\",y_train.shape)\n",
    "print(\"y_test-\",y_test.shape)"
   ]
  },
  {
   "cell_type": "code",
   "execution_count": 8,
   "id": "d0c5ba4a",
   "metadata": {},
   "outputs": [],
   "source": [
    "import warnings\n",
    "warnings.filterwarnings(\"ignore\")"
   ]
  },
  {
   "cell_type": "code",
   "execution_count": 9,
   "id": "dacef401",
   "metadata": {},
   "outputs": [],
   "source": [
    "performance = {\"Model\":[],\"RMSE\":[],\"MaPe\":[],\"Lag\":[],\"Test\":[]}"
   ]
  },
  {
   "cell_type": "code",
   "execution_count": 10,
   "id": "087bd9db",
   "metadata": {},
   "outputs": [],
   "source": [
    "def combination(dataset,listt):\n",
    "    print(listt)\n",
    "    datasetTwo = dataset[listt]\n",
    "    test_obs = 28\n",
    "    train = datasetTwo[:-test_obs]\n",
    "    test = datasetTwo[-test_obs:]\n",
    "    from statsmodels.tsa.api import VAR\n",
    "    for i in [1,2,3,4,5,6,7,8,9,10]:\n",
    "        model = VAR(train)\n",
    "        results = model.fit(i)\n",
    "        print('Order = ',i)\n",
    "        print('AIC: ',results.aic)\n",
    "        print('BIC: ',results.bic)\n",
    "        print()\n",
    "    x = model.select_order(maxlags=12)\n",
    "    order = x.selected_orders['aic']\n",
    "    result = model.fit(order)\n",
    "    #result.summary()\n",
    "    lagged_values = train.values[-order:]\n",
    "    pred = result.forecast(y=lagged_values,steps=28)\n",
    "    preds = pd.DataFrame(pred,columns = listt)\n",
    "    preds.to_csv(\"varforecasted_{}\".format(test_obs))\n",
    "    from sklearn.metrics import mean_squared_error, mean_absolute_percentage_error\n",
    "    rmse = round(mean_squared_error(test,pred))\n",
    "    mape = mean_absolute_percentage_error(test,pred)\n",
    "    performance[\"Model\"].append(listt)\n",
    "    performance[\"RMSE\"].append(rmse)\n",
    "    performance[\"MaPe\"].append(mape)\n",
    "    performance[\"Lag\"].append(order)\n",
    "    performance[\"Test\"].append(test_obs)\n",
    "    perf = pd.DataFrame(performance)\n",
    "    return perf,result,pred"
   ]
  },
  {
   "cell_type": "code",
   "execution_count": 11,
   "id": "ac45a48b",
   "metadata": {},
   "outputs": [],
   "source": [
    "listt = [\"Open\",\"High\",\"Low\",\"Close\"]"
   ]
  },
  {
   "cell_type": "code",
   "execution_count": 12,
   "id": "600780c9",
   "metadata": {},
   "outputs": [
    {
     "name": "stdout",
     "output_type": "stream",
     "text": [
      "['Open', 'High', 'Low', 'Close']\n",
      "Order =  1\n",
      "AIC:  -41.57633250372664\n",
      "BIC:  -41.52447100279195\n",
      "\n",
      "Order =  2\n",
      "AIC:  -41.89965675983833\n",
      "BIC:  -41.80627099960219\n",
      "\n",
      "Order =  3\n",
      "AIC:  -41.89668108122692\n",
      "BIC:  -41.76173985728735\n",
      "\n",
      "Order =  4\n",
      "AIC:  -41.89556182371666\n",
      "BIC:  -41.71903389353316\n",
      "\n",
      "Order =  5\n",
      "AIC:  -41.9246166173129\n",
      "BIC:  -41.70647070014241\n",
      "\n",
      "Order =  6\n",
      "AIC:  -42.00676954931892\n",
      "BIC:  -41.74697432615162\n",
      "\n",
      "Order =  7\n",
      "AIC:  -42.06304859245072\n",
      "BIC:  -41.76157270594569\n",
      "\n",
      "Order =  8\n",
      "AIC:  -42.05891183647394\n",
      "BIC:  -41.71572389089467\n",
      "\n",
      "Order =  9\n",
      "AIC:  -42.075067742123196\n",
      "BIC:  -41.690136303273015\n",
      "\n",
      "Order =  10\n",
      "AIC:  -42.09630316989197\n",
      "BIC:  -41.66959676504926\n",
      "\n"
     ]
    }
   ],
   "source": [
    "perf,result,pred = combination(data1,listt)"
   ]
  },
  {
   "cell_type": "code",
   "execution_count": 13,
   "id": "ca2ea8a5",
   "metadata": {},
   "outputs": [
    {
     "data": {
      "text/html": [
       "<div>\n",
       "<style scoped>\n",
       "    .dataframe tbody tr th:only-of-type {\n",
       "        vertical-align: middle;\n",
       "    }\n",
       "\n",
       "    .dataframe tbody tr th {\n",
       "        vertical-align: top;\n",
       "    }\n",
       "\n",
       "    .dataframe thead th {\n",
       "        text-align: right;\n",
       "    }\n",
       "</style>\n",
       "<table border=\"1\" class=\"dataframe\">\n",
       "  <thead>\n",
       "    <tr style=\"text-align: right;\">\n",
       "      <th></th>\n",
       "      <th>Model</th>\n",
       "      <th>RMSE</th>\n",
       "      <th>MaPe</th>\n",
       "      <th>Lag</th>\n",
       "      <th>Test</th>\n",
       "    </tr>\n",
       "  </thead>\n",
       "  <tbody>\n",
       "    <tr>\n",
       "      <th>0</th>\n",
       "      <td>[Open, High, Low, Close]</td>\n",
       "      <td>0</td>\n",
       "      <td>0.088105</td>\n",
       "      <td>11</td>\n",
       "      <td>28</td>\n",
       "    </tr>\n",
       "  </tbody>\n",
       "</table>\n",
       "</div>"
      ],
      "text/plain": [
       "                      Model  RMSE      MaPe  Lag  Test\n",
       "0  [Open, High, Low, Close]     0  0.088105   11    28"
      ]
     },
     "execution_count": 13,
     "metadata": {},
     "output_type": "execute_result"
    }
   ],
   "source": [
    "perf"
   ]
  },
  {
   "cell_type": "code",
   "execution_count": null,
   "id": "c29e24b2",
   "metadata": {},
   "outputs": [],
   "source": []
  },
  {
   "cell_type": "code",
   "execution_count": null,
   "id": "d3989106",
   "metadata": {},
   "outputs": [],
   "source": []
  },
  {
   "cell_type": "code",
   "execution_count": null,
   "id": "d2e74cc0",
   "metadata": {},
   "outputs": [],
   "source": []
  },
  {
   "cell_type": "code",
   "execution_count": null,
   "id": "449b8c41",
   "metadata": {},
   "outputs": [],
   "source": []
  },
  {
   "cell_type": "code",
   "execution_count": null,
   "id": "f6e3c440",
   "metadata": {},
   "outputs": [],
   "source": [
    "from sklearn.metrics import mean_squared_error,mean_absolute_percentage_error\n",
    "import numpy as np\n",
    "orders = [(1,2,1),(1,1,2),(2,3,1),(2,2,2)]\n",
    "from statsmodels.tsa.statespace.sarimax import SARIMAX\n",
    "\n",
    "for i in orders:\n",
    "    #print(td)\n",
    "    model = SARIMAX(data1,order=i,seasonal_order=(0,0,0,12))\n",
    "    model_fit = model.fit()\n",
    "    y_pred = model_fit.predict(0,len(data1)-1)\n",
    "    \n",
    "    from sklearn.metrics import r2_score\n",
    "    mse = mean_squared_error(data1, y_pred)\n",
    "    #print(y_pred)\n",
    "\n",
    "    print(\"Order={}\".format(i))\n",
    "    rmse = np.sqrt(mean_squared_error(data1, y_pred))\n",
    "    print(\"RMSE:\", rmse)\n",
    "\n",
    "    mape = mean_absolute_percentage_error(data1, y_pred)\n",
    "    print(\"MAPE:\", mape)\n",
    "    print(\"***********\")"
   ]
  },
  {
   "cell_type": "code",
   "execution_count": null,
   "id": "3cfadf94",
   "metadata": {},
   "outputs": [],
   "source": [
    "len(y_pred)"
   ]
  },
  {
   "cell_type": "code",
   "execution_count": null,
   "id": "20270919",
   "metadata": {},
   "outputs": [],
   "source": [
    "order=(1, 1, 2)\n",
    "model = SARIMAX(data1,order=order,seasonal_order=(0,0,0,12))\n",
    "model_fit = model.fit()\n",
    "y_pred = model_fit.predict(0,len(data1)-1)\n",
    "from sklearn.metrics import r2_score\n",
    "mse = mean_squared_error(data1,y_pred)\n",
    "print(\"Order={}\".format(order))\n",
    "rmse = np.sqrt(mean_squared_error(data1, y_pred))\n",
    "print(\"RMSE:\", rmse)\n",
    "mape = mean_absolute_percentage_error(data1, y_pred)\n",
    "print(\"MAPE:\", mape)"
   ]
  },
  {
   "cell_type": "code",
   "execution_count": null,
   "id": "6accf51b",
   "metadata": {},
   "outputs": [],
   "source": [
    "from stockFunctions import graph\n",
    "graph(data1,y_pred,\"Actual\",\"Predicted\",\"TataCoffee-Close-AR-Norm\",\"Days\",\"Prices\")"
   ]
  },
  {
   "cell_type": "code",
   "execution_count": null,
   "id": "af69eb60",
   "metadata": {},
   "outputs": [],
   "source": [
    "from stockFunctions import conversionSingle\n",
    "aTestNormTable=conversionSingle(data1,[column])\n",
    "actual_stock_price_test_ori = Ms.inverse_transform(aTestNormTable)\n",
    "actual_stock_price_test_oriA = conversionSingle(actual_stock_price_test_ori,[column])"
   ]
  },
  {
   "cell_type": "code",
   "execution_count": null,
   "id": "a2dcbb47",
   "metadata": {},
   "outputs": [],
   "source": [
    "pTestNormTable=conversionSingle(y_pred,[column])\n",
    "predicted_stock_price_test_ori = Ms.inverse_transform(pTestNormTable)\n",
    "predicted_stock_price_test_oriA = conversionSingle(predicted_stock_price_test_ori,[column])"
   ]
  },
  {
   "cell_type": "code",
   "execution_count": null,
   "id": "197e79c7",
   "metadata": {},
   "outputs": [],
   "source": [
    "graph(actual_stock_price_test_oriA,predicted_stock_price_test_oriA,\"Actual\",\"Predicted\",\"TataCoffee-Close-AR-Norm\",\"Days\",\"Prices\")"
   ]
  },
  {
   "cell_type": "code",
   "execution_count": null,
   "id": "60fc12b6",
   "metadata": {},
   "outputs": [],
   "source": [
    "rmse = np.sqrt(mean_squared_error(actual_stock_price_test_oriA, predicted_stock_price_test_oriA))\n",
    "print(\"RMSE:\", rmse)\n",
    "mape = mean_absolute_percentage_error(actual_stock_price_test_oriA, predicted_stock_price_test_oriA)\n",
    "print(\"MAPE:\", mape)"
   ]
  },
  {
   "cell_type": "code",
   "execution_count": null,
   "id": "0eb052bc",
   "metadata": {},
   "outputs": [],
   "source": [
    "forecast = model_fit.predict(len(data1),len(data1)+3)\n",
    "forecast"
   ]
  },
  {
   "cell_type": "code",
   "execution_count": null,
   "id": "36e0618f",
   "metadata": {},
   "outputs": [],
   "source": [
    "fTestNormTable=conversionSingle(forecast,[\"Closefore\"])\n",
    "forecast_stock_price_test_ori = Ms.inverse_transform(fTestNormTable)\n",
    "forecast_stock_price_test_oriA = conversionSingle(forecast_stock_price_test_ori,[\"Closefore\"])\n",
    "forecast_stock_price_test_oriA"
   ]
  },
  {
   "cell_type": "code",
   "execution_count": null,
   "id": "205cdf8f",
   "metadata": {},
   "outputs": [],
   "source": [
    "forecast_stock_price_test_oriA.to_csv(\"CloseSARIMA.csv\",index=False)"
   ]
  },
  {
   "cell_type": "code",
   "execution_count": null,
   "id": "e15a2e0b",
   "metadata": {},
   "outputs": [],
   "source": []
  }
 ],
 "metadata": {
  "kernelspec": {
   "display_name": "Python 3.10",
   "language": "python",
   "name": "py310"
  },
  "language_info": {
   "codemirror_mode": {
    "name": "ipython",
    "version": 3
   },
   "file_extension": ".py",
   "mimetype": "text/x-python",
   "name": "python",
   "nbconvert_exporter": "python",
   "pygments_lexer": "ipython3",
   "version": "3.10.0"
  }
 },
 "nbformat": 4,
 "nbformat_minor": 5
}
